{
 "cells": [
  {
   "cell_type": "code",
   "execution_count": 1,
   "id": "8552a567-d463-4a0b-8eeb-e3fa6186b3ac",
   "metadata": {},
   "outputs": [
    {
     "name": "stdout",
     "output_type": "stream",
     "text": [
      "Operator([[ 2.+0.j, -1.+0.j],\n",
      "          [-9.+0.j,  3.+0.j]],\n",
      "         input_dims=(2,), output_dims=(2,))\n"
     ]
    }
   ],
   "source": [
    "# Qiskit does not provide a way to display matrices using Dirac notation\n",
    "\n",
    "from qiskit.quantum_info import Operator\n",
    "import numpy as np\n",
    "\n",
    "matrix = np.array([[2, -1], [-9, 3]])\n",
    "operator = Operator(matrix)\n",
    "print(operator)"
   ]
  },
  {
   "cell_type": "code",
   "execution_count": 2,
   "id": "d206f36c-17da-42ca-889b-a9b7fb05d0f2",
   "metadata": {},
   "outputs": [],
   "source": [
    "# The to_dirac function displays a matrix using Dirac notation in LaTeX\n",
    "\n",
    "def to_dirac(matrix):\n",
    "    dirac = ''\n",
    "    \n",
    "    # Number of qubits \n",
    "    num = int(round(matrix.shape[0]).bit_length() - 1)\n",
    "    \n",
    "    # Iterate through rows and columns\n",
    "    for i in range(matrix.shape[0]):\n",
    "        for j in range(matrix.shape[1]):\n",
    "            element = matrix[i, j]\n",
    "            # Check if the element is not approximately zero\n",
    "            if abs(element) > 1e-10:\n",
    "                # Convert row/column indices to binary strings\n",
    "                row = format(i, f'0{num}b')\n",
    "                col = format(j, f'0{num}b')\n",
    "                \n",
    "                # Format the term \n",
    "                if element == 1:\n",
    "                    term = f'$|{row}\\\\rangle\\\\langle{col}|$'\n",
    "                else:\n",
    "                    term = f'${element}|{row}\\\\rangle\\\\langle{col}|$'\n",
    "                \n",
    "                # Append the term \n",
    "                if dirac:\n",
    "                    dirac += f'+{term}'\n",
    "                else:\n",
    "                    dirac += term\n",
    "    return dirac"
   ]
  },
  {
   "cell_type": "code",
   "execution_count": 3,
   "id": "e3612f90-c51f-443a-bdf2-be73f0bc0838",
   "metadata": {},
   "outputs": [
    {
     "data": {
      "text/latex": [
       "$\\displaystyle 2|0\\rangle\\langle0|$+$-1|0\\rangle\\langle1|$+$-9|1\\rangle\\langle0|$+$3|1\\rangle\\langle1|$"
      ],
      "text/plain": [
       "<IPython.core.display.Math object>"
      ]
     },
     "metadata": {},
     "output_type": "display_data"
    }
   ],
   "source": [
    "# Print the matrix in Dirac notation\n",
    "\n",
    "from IPython.display import display, Math\n",
    "\n",
    "display(Math(to_dirac(matrix)))"
   ]
  },
  {
   "cell_type": "code",
   "execution_count": 4,
   "id": "ca9cf0d3-d668-4d37-a51d-509fe4f314a8",
   "metadata": {},
   "outputs": [
    {
     "data": {
      "text/latex": [
       "$\\displaystyle \\left[\\begin{matrix}\\sqrt{2} & - \\sqrt{2}\\\\- \\sqrt{2} & \\sqrt{2}\\end{matrix}\\right]$"
      ],
      "text/plain": [
       "Matrix([\n",
       "[ sqrt(2), -sqrt(2)],\n",
       "[-sqrt(2),  sqrt(2)]])"
      ]
     },
     "metadata": {},
     "output_type": "display_data"
    }
   ],
   "source": [
    "# If our matrix has radicals, sympy allows us to display in a nicer way\n",
    "\n",
    "from sympy import Matrix,nsimplify,sqrt\n",
    "\n",
    "matrix = np.array([[np.sqrt(2), -np.sqrt(2)], [-np.sqrt(2), np.sqrt(2)]])\n",
    "matrix = Matrix(matrix).applyfunc(lambda x: nsimplify(x, \n",
    "                            [sqrt(2), sqrt(3), sqrt(5), sqrt(8)], tolerance=1e-10))\n",
    "display(matrix)"
   ]
  },
  {
   "cell_type": "code",
   "execution_count": 5,
   "id": "b6b4e7ca-6bf9-4389-8473-397ee8db41bc",
   "metadata": {},
   "outputs": [
    {
     "data": {
      "text/latex": [
       "$\\displaystyle sqrt(2)|0\\rangle\\langle0|$+$-sqrt(2)|0\\rangle\\langle1|$+$-sqrt(2)|1\\rangle\\langle0|$+$sqrt(2)|1\\rangle\\langle1|$"
      ],
      "text/plain": [
       "<IPython.core.display.Math object>"
      ]
     },
     "metadata": {},
     "output_type": "display_data"
    }
   ],
   "source": [
    "# An improved to_dirac method would me required to display radicals \n",
    "\n",
    "display(Math(to_dirac(matrix)))"
   ]
  }
 ],
 "metadata": {
  "kernelspec": {
   "display_name": "Python3 - Qiskit2",
   "language": "python",
   "name": "qiskit2"
  },
  "language_info": {
   "codemirror_mode": {
    "name": "ipython",
    "version": 3
   },
   "file_extension": ".py",
   "mimetype": "text/x-python",
   "name": "python",
   "nbconvert_exporter": "python",
   "pygments_lexer": "ipython3",
   "version": "3.10.12"
  }
 },
 "nbformat": 4,
 "nbformat_minor": 5
}
