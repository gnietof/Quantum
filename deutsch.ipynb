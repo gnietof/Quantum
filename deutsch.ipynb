{
 "cells": [
  {
   "cell_type": "code",
   "execution_count": 1,
   "id": "b5e00bf3-deb6-4025-a14b-9515380bd535",
   "metadata": {
    "editable": true,
    "slideshow": {
     "slide_type": ""
    },
    "tags": []
   },
   "outputs": [],
   "source": [
    "from qiskit import QuantumCircuit, QuantumRegister, ClassicalRegister, transpile\n",
    "from qiskit.circuit import Gate\n",
    "from qiskit.visualization import plot_histogram,circuit_drawer\n",
    "from qiskit_aer import Aer\n",
    "from qiskit.circuit.library import IGate\n",
    "#from qiskit_aer import Aer\n",
    "from qiskit_aer import AerSimulator\n",
    "import matplotlib.pyplot as plt"
   ]
  },
  {
   "cell_type": "code",
   "execution_count": 2,
   "id": "c6616cf0-431c-4e33-8929-fda91f09a5e0",
   "metadata": {
    "editable": true,
    "slideshow": {
     "slide_type": ""
    },
    "tags": []
   },
   "outputs": [
    {
     "data": {
      "image/png": "[encoded data removed]",
      "text/plain": [
       "<Figure size 203.683x200.667 with 1 Axes>"
      ]
     },
     "execution_count": 2,
     "metadata": {},
     "output_type": "execute_result"
    }
   ],
   "source": [
    "#Oracle implementation \n",
    "inner = QuantumCircuit(2,name = 'Uf')\n",
    "\n",
    "# The function which will be implemented by the Oracle must be uncommented\n",
    "\n",
    "# Constant 0\n",
    "# nothing\n",
    "\n",
    "# Constant 1\n",
    "#inner.x(1) \n",
    "\n",
    "# Balanced: output flips if x = 1\n",
    "inner.cx(0,1) \n",
    "\n",
    "# Balanced: output flips if x = 0\n",
    "# inner.x(0) \n",
    "# inner.cx(0,1) \n",
    "# inner.x(0) \n",
    "\n",
    "inner.draw('mpl')"
   ]
  },
  {
   "cell_type": "code",
   "execution_count": 3,
   "id": "47fdef15-e5eb-4fad-a870-818d80c8ae58",
   "metadata": {},
   "outputs": [
    {
     "data": {
      "text/plain": [
       "<qiskit.circuit.instructionset.InstructionSet at 0x7140a702ac20>"
      ]
     },
     "execution_count": 3,
     "metadata": {},
     "output_type": "execute_result"
    }
   ],
   "source": [
    "# Create a quantum circuit with 2 qubit and 1 classical bit\n",
    "qc = QuantumCircuit(2,1)\n",
    "\n",
    "qc.h([0])\n",
    "# Deutsch's 'classic'\n",
    "qc.x(1) \n",
    "qc.h(1) \n",
    "\n",
    "#Convert the Oracle circuit into a gate and add it to the circuit\n",
    "uf = inner.to_gate(label='Uf')\n",
    "qc.append(uf,[0,1])\n",
    "\n",
    "qc.h([0])\n",
    "\n",
    "qc.barrier()\n",
    "qc.measure(0,0)"
   ]
  },
  {
   "cell_type": "code",
   "execution_count": 4,
   "id": "05a7c103-0655-4db2-a578-b973d074da4b",
   "metadata": {},
   "outputs": [
    {
     "data": {
      "image/png": "[encoded data removed]",
      "text/plain": [
       "<Figure size 621.739x284.278 with 1 Axes>"
      ]
     },
     "execution_count": 4,
     "metadata": {},
     "output_type": "execute_result"
    }
   ],
   "source": [
    "# Custom style so that the Oracle is displayed in a different color\n",
    "style = {\n",
    "    'displaycolor': {\n",
    "        'Uf': (\"#00a0e0\", \"#000000\")  \n",
    "    }\n",
    "}\n",
    "qc.draw('mpl', style=style)"
   ]
  },
  {
   "cell_type": "code",
   "execution_count": 5,
   "id": "f6658d07-d3fd-4ed3-bc67-4ee1b08276ff",
   "metadata": {},
   "outputs": [
    {
     "name": "stdout",
     "output_type": "stream",
     "text": [
      "Measurement outcomes: {'1': 512}\n"
     ]
    }
   ],
   "source": [
    "# Use the Aer simulator to run the circuit\n",
    "simulator = Aer.get_backend('qasm_simulator')\n",
    "job = simulator.run(qc.decompose(), shots=512)  \n",
    "\n",
    "# Get the results\n",
    "result = job.result()\n",
    "counts = result.get_counts(qc)\n",
    "\n",
    "# Print the counts\n",
    "print(\"Measurement outcomes:\", counts)"
   ]
  }
 ],
 "metadata": {
  "kernelspec": {
   "display_name": "Python3 - Qiskit2",
   "language": "python",
   "name": "qiskit2"
  },
  "language_info": {
   "codemirror_mode": {
    "name": "ipython",
    "version": 3
   },
   "file_extension": ".py",
   "mimetype": "text/x-python",
   "name": "python",
   "nbconvert_exporter": "python",
   "pygments_lexer": "ipython3",
   "version": "3.10.12"
  }
 },
 "nbformat": 4,
 "nbformat_minor": 5
}
