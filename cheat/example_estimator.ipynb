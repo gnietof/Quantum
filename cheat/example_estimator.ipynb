{
 "cells": [
  {
   "cell_type": "markdown",
   "id": "e7019f43-e304-4760-94e3-ab9ef2fd74f4",
   "metadata": {},
   "source": [
    "# Estimator Hello World\n",
    "\n",
    "For this Hello World example we will be using the Hello World of Quantum Circuits:"
   ]
  },
  {
   "cell_type": "code",
   "execution_count": 1,
   "id": "2073ae99-b6eb-4479-b5ee-6f3fda9a8878",
   "metadata": {},
   "outputs": [
    {
     "data": {
      "image/png": "[encoded data removed]",
      "text/plain": [
       "<Figure size 287.294x200.667 with 1 Axes>"
      ]
     },
     "execution_count": 1,
     "metadata": {},
     "output_type": "execute_result"
    }
   ],
   "source": [
    "from qiskit import QuantumCircuit\n",
    "\n",
    "qc = QuantumCircuit(2)\n",
    "qc.h(0)\n",
    "qc.cx(0,1)\n",
    "qc.draw('mpl')"
   ]
  },
  {
   "cell_type": "markdown",
   "id": "a8f8cae2-86ba-43c4-a93c-4e22e82dfe7e",
   "metadata": {},
   "source": [
    "And we will also be using a Hello World of observables which can be defined in Qiskit in one of these two ways:"
   ]
  },
  {
   "cell_type": "code",
   "execution_count": 2,
   "id": "ab0022b4-6733-4c70-a4ee-068ba3e70cfd",
   "metadata": {},
   "outputs": [],
   "source": [
    "from qiskit.quantum_info import Pauli, SparsePauliOp\n",
    "#O = SparsePauliOp.from_sparse_list([('XX',[0,1],1)],num_qubits=2)\n",
    "observable = Pauli('XX')"
   ]
  },
  {
   "cell_type": "markdown",
   "id": "f4be972f-6103-4804-b4ec-656163012c50",
   "metadata": {},
   "source": [
    "## Algebra\n",
    "The expectation value of an observable $O$ in state $\\ket{\\psi}$ is:  \n",
    "\n",
    "$$\\braket{O}=\\braket{\\psi|O|\\psi}$$\n",
    "\n",
    "Where $\\ket{\\psi}$ is the result of applying our circuit to the initial state vector $\\ket{0}$:\n",
    "\n",
    "$$\\ket{\\psi} = U\\ket{0}$$\n",
    "\n",
    "In our example:  \n",
    "\n",
    "$$U = (I \\otimes \\ket{0} + X \\otimes \\ket{1})(I \\otimes H) = $$\n",
    "\n",
    "$$ = \\left(\\left[\\begin{array}{cc}1 & 0 \\\\ \n",
    "0 & 1\\end{array}\\right] \n",
    "\\otimes \n",
    "\\left[\\begin{array}{cc}1 & 0 \\\\ \n",
    "0 & 0\\end{array}\\right]+\\left[\\begin{array}{cc}0 & 1 \\\\ \n",
    "1 & 0\\end{array}\\right] \n",
    "\\otimes \n",
    "\\left[\\begin{array}{cc}0 & 0 \\\\ \n",
    "0 & 1\\end{array}\\right]\\right)\n",
    "\\left(\\left[\\begin{array}{cc}1 & 0 \\\\ \n",
    "0 & 1\\end{array}\\right] \n",
    "\\otimes \n",
    "\\frac{1}{\\sqrt{2}}\\left[\\begin{array}{cc}1 & 1 \\\\ \n",
    "1 & -1\\end{array}\\right]\n",
    "\\right) =$$\n",
    "\n",
    "$$=\\left(\\left[\\begin{array}{cc}1 & 0 & 0 & 0\\\\ \n",
    "0 & 0 & 0 & 0\\\\ \n",
    "0 & 0 & 1 & 0\\\\ \n",
    "0 & 0 & 0 & 0\\end{array}\\right] +\n",
    "\\left[\\begin{array}{cc}0 & 0 & 0 & 0\\\\ \n",
    "0 & 0 & 0 & 1\\\\ \n",
    "0 & 0 & 0 & 0\\\\ \n",
    "0 & 1 & 0 & 0\\end{array}\\right]\\right)\n",
    "\\frac{1}{\\sqrt{2}}\\left[\\begin{array}{cc}1 & 1 & 0 & 0\\\\ \n",
    "1 & -1 & 0 & 0\\\\ \n",
    "0 & 0 & 1 & 1\\\\ \n",
    "0 & 0 & 1 & -1\\end{array}\\right] = $$\n",
    "\n",
    "$$=\\frac{1}{\\sqrt{2}}\\left[\\begin{array}{cc}1 & 0 & 0 & 0\\\\ \n",
    "0 & 0 & 0 & 1\\\\ \n",
    "0 & 0 & 1 & 0\\\\ \n",
    "0 & 1 & 0 & 0\\end{array}\\right] \n",
    "\\left[\\begin{array}{cc}1 & 1 & 0 & 0\\\\ \n",
    "1 & -1 & 0 & 0\\\\ \n",
    "0 & 0 & 1 & 1\\\\ \n",
    "0 & 0 & 1 & -1\\end{array}\\right] = \\frac{1}{\\sqrt{2}}\\left[\\begin{array}{cc}1 & 1 & 0 & 0\\\\ \n",
    "0 & 0 & 1 & -1\\\\ \n",
    "0 & 0 & 1 & 1\\\\ \n",
    "1 & -1 & 0 & 0\\end{array}\\right] $$ \n",
    "\n",
    "If we apply the circuit operator to our initial state vector:\n",
    "\n",
    "$$\\ket{\\psi} = U\\ket{0} = \\frac{1}{\\sqrt{2}}\\left[\\begin{array}{cc}1 & 1 & 0 & 0\\\\ \n",
    "0 & 0 & 1 & -1\\\\ \n",
    "0 & 0 & 1 & 1\\\\ \n",
    "1 & -1 & 0 & 0\\end{array}\\right] \n",
    "\\left[\\begin{array}{cc}1\\\\ \n",
    "0\\\\ \n",
    "0\\\\ \n",
    "0\\end{array}\\right] = \\frac{1}{\\sqrt{2}}\\left[\\begin{array}{cc}1\\\\ \n",
    "0\\\\ \n",
    "0\\\\ \n",
    "1\\end{array}\\right] = \\frac{1}{\\sqrt{2}}(\\ket{00}+\\ket{11})$$ \n",
    "\n",
    "Now we calculate our observation:\n",
    "\n",
    "$$ XX = \\left[\\begin{array}{cc}0 & 1 \\\\ \n",
    "1 & 0\\end{array}\\right] \n",
    "\\otimes \n",
    "\\left[\\begin{array}{cc}0 & 1 \\\\ \n",
    "1 & 0\\end{array}\\right] = \n",
    "\\left[\\begin{array}{cc}0 & 0 & 0 & 1\\\\ \n",
    "0 & 0 & 1 & 0\\\\ \n",
    "0 & 1 & 0 & 0\\\\ \n",
    "1 & 0 & 0 & 0\\end{array}\\right] \n",
    "$$\n",
    "\n",
    "And finally we estimate the expectation of our observable:\n",
    "\n",
    "$$\\braket{O}=\\braket{\\psi|O|\\psi} = \\frac{1}{\\sqrt{2}}\\left[\\begin{array}{cc}1 & 0 & 0 & 1\\end{array}\\right]\n",
    "\\left[\\begin{array}{cc}0 & 0 & 0 & 1\\\\ \n",
    "0 & 0 & 1 & 0\\\\ \n",
    "0 & 1 & 0 & 0\\\\ \n",
    "1 & 0 & 0 & 0\\end{array}\\right]\n",
    "\\frac{1}{\\sqrt{2}}\\left[\\begin{array}{cc}1\\\\ \n",
    "0\\\\ \n",
    "0\\\\ \n",
    "1\\end{array}\\right] = \\frac{1}{2}\\left[\\begin{array}{cc}1 & 0 & 0 & 1\\end{array}\\right] \\left[\\begin{array}{cc}1\\\\ \n",
    "0\\\\ \n",
    "0\\\\ \n",
    "1\\end{array}\\right] = 1\n",
    "$$"
   ]
  },
  {
   "cell_type": "markdown",
   "id": "09dc3bc5-8b3d-4740-9ee5-6da916e1ed6f",
   "metadata": {},
   "source": [
    "## Qiskit\n",
    "Now we will use Qiskity to do the math.\n",
    "\n",
    "First we will define the initial statevector $\\ket{00}$."
   ]
  },
  {
   "cell_type": "code",
   "execution_count": 3,
   "id": "fbdb6404-23cc-4d72-b971-3a2bd667e045",
   "metadata": {},
   "outputs": [
    {
     "data": {
      "text/latex": [
       "$$ |00\\rangle$$"
      ],
      "text/plain": [
       "<IPython.core.display.Latex object>"
      ]
     },
     "execution_count": 3,
     "metadata": {},
     "output_type": "execute_result"
    }
   ],
   "source": [
    "from qiskit.quantum_info import Statevector\n",
    "\n",
    "sv = Statevector([1,0,0,0]) \n",
    "sv.draw('latex')"
   ]
  },
  {
   "cell_type": "markdown",
   "id": "7af5ae69-92a2-4325-a434-d3363b5cb65d",
   "metadata": {},
   "source": [
    "Now we apply the circuit to the statevector to obtain $\\ket{\\psi}$:"
   ]
  },
  {
   "cell_type": "code",
   "execution_count": 4,
   "id": "582a7194-bece-448d-921d-ee13b4487fa5",
   "metadata": {},
   "outputs": [
    {
     "data": {
      "text/latex": [
       "$$\\frac{\\sqrt{2}}{2} |00\\rangle+\\frac{\\sqrt{2}}{2} |11\\rangle$$"
      ],
      "text/plain": [
       "<IPython.core.display.Latex object>"
      ]
     },
     "execution_count": 4,
     "metadata": {},
     "output_type": "execute_result"
    }
   ],
   "source": [
    "sv2 = sv.evolve(qc)\n",
    "sv2.draw('latex')"
   ]
  },
  {
   "cell_type": "markdown",
   "id": "012ef98d-9dcc-4fb8-8eaa-f8a8ef71f6b7",
   "metadata": {},
   "source": [
    "And finally we obtain the estimation for our observable:\n",
    "$$ \\braket{O} = \\braket{\\psi|O|\\psi} $$ "
   ]
  },
  {
   "cell_type": "code",
   "execution_count": 5,
   "id": "1a276beb-76e7-4aac-bf77-51cea7a00c93",
   "metadata": {},
   "outputs": [
    {
     "data": {
      "text/plain": [
       "0.9999999999999998"
      ]
     },
     "execution_count": 5,
     "metadata": {},
     "output_type": "execute_result"
    }
   ],
   "source": [
    "sv2.expectation_value(observable)"
   ]
  },
  {
   "cell_type": "markdown",
   "id": "707c61b8-869d-4a77-9c57-672ecaf5097c",
   "metadata": {},
   "source": [
    "## Qiskit (Estimator)\n",
    "Now we will use an Estimator to obtain the estimation for our observable."
   ]
  },
  {
   "cell_type": "code",
   "execution_count": 6,
   "id": "606b4e3b-3271-4334-b568-a411048941dc",
   "metadata": {},
   "outputs": [],
   "source": [
    "from qiskit.primitives import StatevectorEstimator\n",
    "\n",
    "estimator = StatevectorEstimator()\n",
    "\n",
    "job = estimator.run([(qc, observable)])\n",
    "result = job.result()"
   ]
  },
  {
   "cell_type": "code",
   "execution_count": 7,
   "id": "3eb994a6-bdc1-455e-b43c-0434fcfe8eb3",
   "metadata": {},
   "outputs": [
    {
     "data": {
      "text/plain": [
       "array(1.)"
      ]
     },
     "execution_count": 7,
     "metadata": {},
     "output_type": "execute_result"
    }
   ],
   "source": [
    "result[0].data.evs"
   ]
  },
  {
   "cell_type": "markdown",
   "id": "e83f4380-f965-4721-917d-255e3c13796a",
   "metadata": {},
   "source": [
    "## Qiskit (Matrices)\n",
    "Finally, for completeness, we will use the data and execute the math 'manually'.\n",
    "The initial statevector is:"
   ]
  },
  {
   "cell_type": "code",
   "execution_count": 8,
   "id": "3c75b4ef-3c1f-4111-a838-f5c9e899713e",
   "metadata": {},
   "outputs": [
    {
     "data": {
      "text/plain": [
       "array([1.+0.j, 0.+0.j, 0.+0.j, 0.+0.j])"
      ]
     },
     "execution_count": 8,
     "metadata": {},
     "output_type": "execute_result"
    }
   ],
   "source": [
    "zeroes = sv.data\n",
    "zeroes"
   ]
  },
  {
   "cell_type": "markdown",
   "id": "532ce3a5-067d-4dab-a910-6c96c71d1c6e",
   "metadata": {},
   "source": [
    "The unitary array for the circuit is:"
   ]
  },
  {
   "cell_type": "code",
   "execution_count": 9,
   "id": "0b3879d2-a817-44db-bcef-7567a16aee22",
   "metadata": {},
   "outputs": [
    {
     "data": {
      "text/plain": [
       "array([[ 0.70710678+0.j,  0.70710678+0.j,  0.        +0.j,\n",
       "         0.        +0.j],\n",
       "       [ 0.        +0.j,  0.        +0.j,  0.70710678+0.j,\n",
       "        -0.70710678+0.j],\n",
       "       [ 0.        +0.j,  0.        +0.j,  0.70710678+0.j,\n",
       "         0.70710678+0.j],\n",
       "       [ 0.70710678+0.j, -0.70710678+0.j,  0.        +0.j,\n",
       "         0.        +0.j]])"
      ]
     },
     "execution_count": 9,
     "metadata": {},
     "output_type": "execute_result"
    }
   ],
   "source": [
    "from qiskit.quantum_info import Operator\n",
    "\n",
    "U = Operator(qc).data\n",
    "U"
   ]
  },
  {
   "cell_type": "markdown",
   "id": "f7a8cd58-53db-4501-a3cb-d1baee8fecf7",
   "metadata": {},
   "source": [
    "And the observable is:"
   ]
  },
  {
   "cell_type": "code",
   "execution_count": 10,
   "id": "6f82cc09-a421-47aa-a9cc-43247151c380",
   "metadata": {},
   "outputs": [
    {
     "data": {
      "text/plain": [
       "array([[0.+0.j, 0.+0.j, 0.+0.j, 1.+0.j],\n",
       "       [0.+0.j, 0.+0.j, 1.+0.j, 0.+0.j],\n",
       "       [0.+0.j, 1.+0.j, 0.+0.j, 0.+0.j],\n",
       "       [1.+0.j, 0.+0.j, 0.+0.j, 0.+0.j]])"
      ]
     },
     "execution_count": 10,
     "metadata": {},
     "output_type": "execute_result"
    }
   ],
   "source": [
    "MObs = observable.to_matrix()\n",
    "MObs"
   ]
  },
  {
   "cell_type": "markdown",
   "id": "89ee8dbe-74a7-4990-b9ec-f39dca2a477a",
   "metadata": {},
   "source": [
    "Now we apply the circuit to our statevector:"
   ]
  },
  {
   "cell_type": "code",
   "execution_count": 11,
   "id": "9486a999-d68d-456b-bead-3589d547cce2",
   "metadata": {},
   "outputs": [],
   "source": [
    "Psi = U @ zeroes\n",
    "MPsi = Operator(Psi).data"
   ]
  },
  {
   "cell_type": "markdown",
   "id": "142d11ed-19bd-442f-bbad-6f8a86879c68",
   "metadata": {},
   "source": [
    "And finally find the estimation for the observable:"
   ]
  },
  {
   "cell_type": "code",
   "execution_count": 12,
   "id": "77e0aa1f-ca9a-4c70-a522-3c293d6052dc",
   "metadata": {},
   "outputs": [
    {
     "data": {
      "text/plain": [
       "np.complex128(0.9999999999999998+0j)"
      ]
     },
     "execution_count": 12,
     "metadata": {},
     "output_type": "execute_result"
    }
   ],
   "source": [
    "estimate = MPsi.T @ MObs @ MPsi\n",
    "estimate"
   ]
  },
  {
   "cell_type": "code",
   "execution_count": null,
   "id": "fb7dc33d-f148-4df8-9721-79b56d21873c",
   "metadata": {},
   "outputs": [],
   "source": []
  }
 ],
 "metadata": {
  "kernelspec": {
   "display_name": "Python 3 - Qiskit2.2",
   "language": "python",
   "name": "qiskit22"
  },
  "language_info": {
   "codemirror_mode": {
    "name": "ipython",
    "version": 3
   },
   "file_extension": ".py",
   "mimetype": "text/x-python",
   "name": "python",
   "nbconvert_exporter": "python",
   "pygments_lexer": "ipython3",
   "version": "3.10.12"
  }
 },
 "nbformat": 4,
 "nbformat_minor": 5
}
