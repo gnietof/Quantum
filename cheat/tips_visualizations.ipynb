# Visualizations
## Histograms
There are several questions in test exams regarding histograms and, the ones I have seen, are all around the paramters you can provide (data, title, legends...

from qiskit import QuantumCircuit
from qiskit.visualization import plot_histogram
from qiskit_aer import Aer

qc = QuantumCircuit(2,2)
qc.h(0)
qc.cx(0,1)
qc.measure([0,1],[0,1])

simulator = Aer.get_backend('qasm_simulator')
job = simulator.run(qc,shots=1024)
results = job.result()

plot_histogram([results.get_counts(),results.get_counts()],title='Genaro',legend=['Bego','María'])
