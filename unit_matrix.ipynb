{
 "cells": [
  {
   "cell_type": "code",
   "execution_count": 1,
   "id": "ccd7160c-cdb1-498b-8b0c-c2bd7eef75f6",
   "metadata": {},
   "outputs": [],
   "source": [
    "# Import necessary Qiskit modules\n",
    "\n",
    "from qiskit import QuantumCircuit, QuantumRegister, ClassicalRegister\n",
    "from qiskit.visualization import plot_histogram,circuit_drawer\n",
    "from qiskit.quantum_info import Operator\n",
    "import matplotlib.pyplot as plt\n",
    "import numpy as np"
   ]
  },
  {
   "cell_type": "code",
   "execution_count": 2,
   "id": "c3721cbe-8e7a-4459-bea1-4cf63c69c4a6",
   "metadata": {},
   "outputs": [
    {
     "data": {
      "image/png": "[encoded data removed]",
      "text/plain": [
       "<Figure size 287.294x200.667 with 1 Axes>"
      ]
     },
     "execution_count": 2,
     "metadata": {},
     "output_type": "execute_result"
    }
   ],
   "source": [
    "# Create a quantum circuit \n",
    "\n",
    "qc = QuantumCircuit(2,0)\n",
    "\n",
    "qc.h(0);\n",
    "qc.z(1)\n",
    "qc.cx(0,1)\n",
    "\n",
    "qc.draw('mpl')"
   ]
  },
  {
   "cell_type": "code",
   "execution_count": 3,
   "id": "7d7f54f2-cd26-46ca-a815-9d4022d72821",
   "metadata": {},
   "outputs": [
    {
     "data": {
      "text/latex": [
       "$\\displaystyle \\left[\\begin{matrix}\\frac{\\sqrt{2}}{2} & \\frac{\\sqrt{2}}{2} & 0 & 0\\\\0 & 0 & - \\frac{\\sqrt{2}}{2} & \\frac{\\sqrt{2}}{2}\\\\0 & 0 & - \\frac{\\sqrt{2}}{2} & - \\frac{\\sqrt{2}}{2}\\\\\\frac{\\sqrt{2}}{2} & - \\frac{\\sqrt{2}}{2} & 0 & 0\\end{matrix}\\right]$"
      ],
      "text/plain": [
       "Matrix([\n",
       "[sqrt(2)/2,  sqrt(2)/2,          0,          0],\n",
       "[        0,          0, -sqrt(2)/2,  sqrt(2)/2],\n",
       "[        0,          0, -sqrt(2)/2, -sqrt(2)/2],\n",
       "[sqrt(2)/2, -sqrt(2)/2,          0,          0]])"
      ]
     },
     "metadata": {},
     "output_type": "display_data"
    }
   ],
   "source": [
    "# Display the unitary matrix for this circuit\n",
    "\n",
    "from sympy import Matrix,nsimplify,sqrt\n",
    "\n",
    "unit = Matrix(Operator(qc).data)\n",
    "unit = unit.applyfunc(lambda x: nsimplify(x, \n",
    "                            [sqrt(2), sqrt(3), sqrt(5), sqrt(8)], tolerance=1e-10))\n",
    "display(unit)"
   ]
  },
  {
   "cell_type": "code",
   "execution_count": 4,
   "id": "b28431d2-2e68-49ca-898a-8cf75eca4a9b",
   "metadata": {},
   "outputs": [
    {
     "data": {
      "text/latex": [
       "$\\displaystyle \\left[\\begin{matrix}\\frac{\\sqrt{2}}{2} & 0 & 0 & \\frac{\\sqrt{2}}{2}\\\\\\frac{\\sqrt{2}}{2} & 0 & 0 & - \\frac{\\sqrt{2}}{2}\\\\0 & - \\frac{\\sqrt{2}}{2} & - \\frac{\\sqrt{2}}{2} & 0\\\\0 & \\frac{\\sqrt{2}}{2} & - \\frac{\\sqrt{2}}{2} & 0\\end{matrix}\\right]$"
      ],
      "text/plain": [
       "Matrix([\n",
       "[sqrt(2)/2,          0,          0,  sqrt(2)/2],\n",
       "[sqrt(2)/2,          0,          0, -sqrt(2)/2],\n",
       "[        0, -sqrt(2)/2, -sqrt(2)/2,          0],\n",
       "[        0,  sqrt(2)/2, -sqrt(2)/2,          0]])"
      ]
     },
     "metadata": {},
     "output_type": "display_data"
    }
   ],
   "source": [
    "# Get the conjugate transpose\n",
    "\n",
    "from sympy import Matrix,simplify,nsimplify,sqrt\n",
    "\n",
    "display(unit.H)"
   ]
  },
  {
   "cell_type": "code",
   "execution_count": 5,
   "id": "8f86fb79-cf59-4db1-9c1e-f5881f0159cc",
   "metadata": {},
   "outputs": [
    {
     "data": {
      "text/latex": [
       "$\\displaystyle \\left[\\begin{matrix}1 & 0 & 0 & 0\\\\0 & 1 & 0 & 0\\\\0 & 0 & 1 & 0\\\\0 & 0 & 0 & 1\\end{matrix}\\right]$"
      ],
      "text/plain": [
       "Matrix([\n",
       "[1, 0, 0, 0],\n",
       "[0, 1, 0, 0],\n",
       "[0, 0, 1, 0],\n",
       "[0, 0, 0, 1]])"
      ]
     },
     "metadata": {},
     "output_type": "display_data"
    }
   ],
   "source": [
    "# Multiply the matrix by its conjugate transpose\n",
    "\n",
    "I = simplify(unit.H * unit)\n",
    "display(I)"
   ]
  },
  {
   "cell_type": "code",
   "execution_count": null,
   "id": "56d1078d-893f-46aa-95d5-d8b1985084eb",
   "metadata": {},
   "outputs": [],
   "source": []
  }
 ],
 "metadata": {
  "kernelspec": {
   "display_name": "Python3 - Qiskit2",
   "language": "python",
   "name": "qiskit2"
  },
  "language_info": {
   "codemirror_mode": {
    "name": "ipython",
    "version": 3
   },
   "file_extension": ".py",
   "mimetype": "text/x-python",
   "name": "python",
   "nbconvert_exporter": "python",
   "pygments_lexer": "ipython3",
   "version": "3.10.12"
  }
 },
 "nbformat": 4,
 "nbformat_minor": 5
}
