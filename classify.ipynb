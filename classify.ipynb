{
 "cells": [
  {
   "cell_type": "code",
   "execution_count": 1,
   "id": "69911d9e-ec75-4646-baff-e4436b03df8a",
   "metadata": {},
   "outputs": [],
   "source": [
    "import numpy as np\n",
    "\n",
    "# Checks if a matrix is Hermitian. \n",
    "def is_hermitian(A, tolerance=1e-8):\n",
    "    # A square matrix A is Hermitian if it is equal to its conjugate transpose\n",
    "    if A.shape[0] != A.shape[1]:\n",
    "        return False\n",
    "    return np.allclose(A, A.conj().T, atol=tolerance)\n",
    "\n",
    "# Checks if a matrix is Unitary. \n",
    "def is_unitary(A, tolerance=1e-8):\n",
    "    # A square matrix U is Unitary if its conjugate transpose is also its inverse\n",
    "    if A.shape[0] != A.shape[1]:\n",
    "        return False\n",
    "    n = A.shape[0]\n",
    "    return np.allclose(A.conj().T @ A, np.eye(n), atol=tolerance)\n",
    "\n",
    "# Checks if a matrix is Stochastic. \n",
    "def is_stochastic(A, tolerance=1e-8):\n",
    "     if A.shape[0] != A.shape[1]:\n",
    "        return False\n",
    "    if np.any(A < 0):\n",
    "        return False\n",
    "    row_sums = np.sum(A, axis=1)\n",
    "    return np.allclose(row_sums, 1, atol=tolerance)\n",
    "\n",
    "# Checks if a matrix is a Projection operator in Quantum Computing.\n",
    "def is_projection(A, tolerance=1e-8):\n",
    "    # A projection operator must be both Hermitian and idempotent (P^2 = P).\n",
    "    if A.shape[0] != A.shape[1]:\n",
    "        return False\n",
    "    is_herm = is_hermitian(A, tolerance)\n",
    "    is_idemp = np.allclose(A @ A, A, atol=tolerance)\n",
    "    return is_herm and is_idemp    "
   ]
  },
  {
   "cell_type": "code",
   "execution_count": 2,
   "id": "7becb30e-254e-4d2f-975e-00488736f377",
   "metadata": {},
   "outputs": [],
   "source": [
    "M = np.array([[1,0],[0,-1]])"
   ]
  },
  {
   "cell_type": "code",
   "execution_count": 3,
   "id": "38461392-a529-49a6-848d-d77ca47290c3",
   "metadata": {},
   "outputs": [
    {
     "name": "stdout",
     "output_type": "stream",
     "text": [
      "True\n"
     ]
    }
   ],
   "source": [
    "print(is_hermitian(M))"
   ]
  },
  {
   "cell_type": "code",
   "execution_count": 4,
   "id": "ce420b56-ce55-4b7e-8b07-5091106eefe5",
   "metadata": {},
   "outputs": [
    {
     "name": "stdout",
     "output_type": "stream",
     "text": [
      "True\n"
     ]
    }
   ],
   "source": [
    "print(is_unitary(M))"
   ]
  },
  {
   "cell_type": "code",
   "execution_count": 5,
   "id": "84f4e6ea-516b-40be-9f3b-cb1a4cb40a57",
   "metadata": {},
   "outputs": [
    {
     "name": "stdout",
     "output_type": "stream",
     "text": [
      "False\n"
     ]
    }
   ],
   "source": [
    "print(is_stochastic(M))"
   ]
  },
  {
   "cell_type": "code",
   "execution_count": 6,
   "id": "0611d75b-51ab-49ef-a250-40e2dc6f304f",
   "metadata": {},
   "outputs": [
    {
     "name": "stdout",
     "output_type": "stream",
     "text": [
      "False\n"
     ]
    }
   ],
   "source": [
    "print(is_projection(M))"
   ]
  }
 ],
 "metadata": {
  "kernelspec": {
   "display_name": "Python3 - Qiskit2",
   "language": "python",
   "name": "qiskit2"
  },
  "language_info": {
   "codemirror_mode": {
    "name": "ipython",
    "version": 3
   },
   "file_extension": ".py",
   "mimetype": "text/x-python",
   "name": "python",
   "nbconvert_exporter": "python",
   "pygments_lexer": "ipython3",
   "version": "3.10.12"
  }
 },
 "nbformat": 4,
 "nbformat_minor": 5
}
